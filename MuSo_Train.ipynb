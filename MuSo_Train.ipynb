{
 "cells": [
  {
   "cell_type": "markdown",
   "metadata": {},
   "source": [
    "# MuSo Train\n",
    "MuSo is a supervised machine learning model for predicting user compatibility (degrees of separation) based on their music preferences. This document handles the dataset vectorization, regularization, and model training."
   ]
  },
  {
   "cell_type": "markdown",
   "metadata": {},
   "source": [
    "## Initialization and Loading the Dataset"
   ]
  },
  {
   "cell_type": "code",
   "execution_count": 1,
   "metadata": {},
   "outputs": [
    {
     "name": "stdout",
     "output_type": "stream",
     "text": [
      "\n",
      "    Include Tags: True\n",
      "    Maximum Degree of Separation: 85\n",
      "    \n"
     ]
    }
   ],
   "source": [
    "import json\n",
    "import random\n",
    "import numpy as np\n",
    "import pandas as pd\n",
    "from numpy.typing import NDArray\n",
    "\n",
    "DATASET_NAME = \"MuSo_User\"\n",
    "\n",
    "with open(f\"{DATASET_NAME}_Data.json\", \"r\") as f:\n",
    "    USER_DATA:dict = json.load(f)\n",
    "    \n",
    "USER_DOS = pd.read_csv(f\"{DATASET_NAME}_DOS.csv\", index_col = 0)\n",
    "\n",
    "if \"top_tags\" in list(USER_DATA.values())[0]:\n",
    "    INCL_TAGS = True\n",
    "    \n",
    "MAX_DOS = USER_DOS.max().max()\n",
    "    \n",
    "print(\n",
    "    f\"\"\"\n",
    "    Include Tags: {INCL_TAGS}\n",
    "    Maximum Degree of Separation: {MAX_DOS}\n",
    "    \"\"\"\n",
    ")"
   ]
  },
  {
   "cell_type": "markdown",
   "metadata": {},
   "source": [
    "## Dataset User Vectorization"
   ]
  },
  {
   "cell_type": "code",
   "execution_count": 2,
   "metadata": {},
   "outputs": [
    {
     "name": "stdout",
     "output_type": "stream",
     "text": [
      "28894\n"
     ]
    }
   ],
   "source": [
    "def get_unique_top_items(data:dict, top_item:str, shuffled:bool=False)->list[str]:\n",
    "    all_items = []\n",
    "    for user in data:\n",
    "        all_items += list(data[user][top_item].keys())\n",
    "        \n",
    "    all_unique_items = list(set(all_items))\n",
    "    if shuffled:\n",
    "        random.shuffle(all_unique_items)\n",
    "    else:\n",
    "        all_unique_items.sort()\n",
    "    return all_unique_items\n",
    "\n",
    "\n",
    "def get_all_unique_top_items(data:dict, include_tags:bool=False):\n",
    "    do_shuffle = False\n",
    "    all_artists = get_unique_top_items(data, \"top_artists\", shuffled=do_shuffle)\n",
    "    all_albums = get_unique_top_items(data, \"top_albums\", shuffled=do_shuffle)\n",
    "    all_tracks = get_unique_top_items(data, \"top_tracks\", shuffled=do_shuffle)\n",
    "    if include_tags:\n",
    "        all_tags = get_unique_top_items(data, \"top_tags\", shuffled=do_shuffle)\n",
    "        random.shuffle(all_tags)\n",
    "    else:\n",
    "        all_tags = None\n",
    "    return all_artists, all_albums, all_tracks, all_tags\n",
    "\n",
    "def get_user_vector_size():\n",
    "    input_vec_size = 0\n",
    "    all_artists, all_albums, all_tracks, all_tags = get_all_unique_top_items(USER_DATA, INCL_TAGS)\n",
    "    input_vec_size += len(all_artists)\n",
    "    input_vec_size += len(all_albums)\n",
    "    input_vec_size += len(all_tracks)\n",
    "    if INCL_TAGS:\n",
    "        assert all_tags\n",
    "        input_vec_size += len(all_tags)\n",
    "    return input_vec_size * 2\n",
    "\n",
    "def replace_with_user_plays(all_item_list:list, user:str, top_item:str):\n",
    "    user_value_list = []\n",
    "    for item in all_item_list:\n",
    "        if item in USER_DATA[user][top_item]:\n",
    "            user_value_list.append(USER_DATA[user][top_item][item])\n",
    "        else:\n",
    "            user_value_list.append(0)\n",
    "    return np.array(user_value_list)\n",
    "\n",
    "def normalize(a:NDArray[np.int64]):\n",
    "    return (a - a.mean()) / a.std()\n",
    "\n",
    "def get_user_vector(user1:str, user2:str):\n",
    "    all_artists, all_albums, all_tracks, all_tags = get_all_unique_top_items(USER_DATA, INCL_TAGS)\n",
    "    u1_all_artists_vec = normalize(replace_with_user_plays(all_artists, user1, \"top_artists\"))\n",
    "    u1_all_albums_vec = normalize(replace_with_user_plays(all_albums, user1, \"top_albums\"))\n",
    "    u1_all_tracks_vec = normalize(replace_with_user_plays(all_tracks, user1, \"top_tracks\"))\n",
    "    u2_all_artists_vec = normalize(replace_with_user_plays(all_artists, user2, \"top_artists\"))\n",
    "    u2_all_albums_vec = normalize(replace_with_user_plays(all_albums, user2, \"top_albums\"))\n",
    "    u2_all_tracks_vec = normalize(replace_with_user_plays(all_tracks, user2, \"top_tracks\"))\n",
    "    artist_vec = normalize(np.hstack([u1_all_artists_vec, u2_all_artists_vec]))\n",
    "    album_vec = normalize(np.hstack([u1_all_albums_vec, u2_all_albums_vec]))\n",
    "    track_vec = normalize(np.hstack([u1_all_tracks_vec, u2_all_tracks_vec]))\n",
    "    vec_list = [artist_vec, album_vec, track_vec]\n",
    "    if INCL_TAGS:\n",
    "        assert all_tags\n",
    "        u1_all_tags_vec = normalize(replace_with_user_plays(all_tags, user1, \"top_tags\"))\n",
    "        u2_all_tags_vec = normalize(replace_with_user_plays(all_tags, user2, \"top_tags\"))\n",
    "        tag_vec = normalize(np.hstack([u1_all_tags_vec, u2_all_tags_vec]))\n",
    "        vec_list.append(tag_vec)\n",
    "    #random.shuffle(vec_list)\n",
    "    return normalize(np.hstack(vec_list)).astype(np.float32)\n",
    "\n",
    "#print(len(get_user_vector(\"xxMYDLSASTERxx\", \"EJ554455\")))\n",
    "print(get_user_vector_size())"
   ]
  },
  {
   "cell_type": "markdown",
   "metadata": {},
   "source": [
    "## Model Creation and Training"
   ]
  },
  {
   "cell_type": "markdown",
   "metadata": {},
   "source": [
    "### Dataset for Training"
   ]
  },
  {
   "cell_type": "code",
   "execution_count": 3,
   "metadata": {},
   "outputs": [
    {
     "data": {
      "text/plain": [
       "1485"
      ]
     },
     "execution_count": 3,
     "metadata": {},
     "output_type": "execute_result"
    }
   ],
   "source": [
    "from torch.utils.data import Dataset, DataLoader\n",
    "DATA_MULTIPLIER = 1\n",
    "\n",
    "class MuSoDataset(Dataset):\n",
    "    def __init__(self, degrees_of_separation_df):\n",
    "        self.data = [\n",
    "            ((column, index), degrees_of_separation_df.at[index, column] - 1) \n",
    "            for y, index in enumerate(degrees_of_separation_df.index)\n",
    "            for x, column in enumerate(degrees_of_separation_df.columns)\n",
    "            if x > y\n",
    "        ] * DATA_MULTIPLIER\n",
    "    def __len__(self):\n",
    "        return len(self.data)\n",
    "\n",
    "    def __getitem__(self, idx):\n",
    "        user_pair, label = self.data[idx]\n",
    "        user1, user2 = user_pair\n",
    "        vector = get_user_vector(user1, user2)\n",
    "        return vector, label\n",
    "\n",
    "MSDS = MuSoDataset(USER_DOS)\n",
    "len(MSDS)"
   ]
  },
  {
   "cell_type": "markdown",
   "metadata": {},
   "source": [
    "### Model Architecture"
   ]
  },
  {
   "cell_type": "code",
   "execution_count": 4,
   "metadata": {},
   "outputs": [],
   "source": [
    "import torch.nn as nn\n",
    "import torch.nn.functional as F\n",
    "\n",
    "class SeparationModel(nn.Module):\n",
    "    def __init__(self, input_dim, num_classes):\n",
    "        super(SeparationModel, self).__init__()\n",
    "        self.fc1 = nn.Linear(input_dim, 8192)\n",
    "        self.fc2 = nn.Linear(8192, 4096)\n",
    "        self.fc3 = nn.Linear(4096, 2048)\n",
    "        self.fc4 = nn.Linear(2048, 1024)\n",
    "        self.fc5 = nn.Linear(1024, 512)\n",
    "        self.fc6 = nn.Linear(512, 256)\n",
    "        self.fc7 = nn.Linear(256, 128)\n",
    "        self.fc8 = nn.Linear(128, num_classes)\n",
    "        self.dropout = nn.Dropout(p=0.5)\n",
    "\n",
    "    def forward(self, x):\n",
    "        x = F.relu(self.fc1(x))\n",
    "        x = self.dropout(x)\n",
    "        x = F.relu(self.fc2(x))\n",
    "        x = self.dropout(x)\n",
    "        x = F.relu(self.fc3(x))\n",
    "        x = self.dropout(x)\n",
    "        x = F.relu(self.fc4(x))\n",
    "        x = self.dropout(x)\n",
    "        x = F.relu(self.fc5(x))\n",
    "        x = self.dropout(x)\n",
    "        x = F.relu(self.fc6(x))\n",
    "        x = self.dropout(x)\n",
    "        x = F.relu(self.fc7(x))\n",
    "        x = self.dropout(x)\n",
    "        x = self.fc8(x)\n",
    "        return x\n"
   ]
  },
  {
   "cell_type": "markdown",
   "metadata": {},
   "source": [
    "### Training"
   ]
  },
  {
   "cell_type": "code",
   "execution_count": 5,
   "metadata": {},
   "outputs": [
    {
     "data": {
      "image/png": "[encoded data removed]",
      "text/plain": [
       "<Figure size 1000x600 with 1 Axes>"
      ]
     },
     "metadata": {},
     "output_type": "display_data"
    }
   ],
   "source": [
    "import torch\n",
    "import matplotlib.pyplot as plt\n",
    "from IPython.display import display, clear_output\n",
    "\n",
    "DEVICE = \"cuda\"\n",
    "NUM_EPOCHS = 200\n",
    "LEARNING_RATE = 0.0001\n",
    "BATCH_SIZE = 1\n",
    "\n",
    "\n",
    "plt.ion()\n",
    "fig, ax = plt.subplots(figsize=(10, 6))\n",
    "ax.set_title('Training Loss')\n",
    "ax.set_xlabel('Epoch')\n",
    "ax.set_ylabel('Loss')\n",
    "ax.set_xlim(0, NUM_EPOCHS - 1)\n",
    "lines, = ax.plot([], [])\n",
    "ax.grid(True)\n",
    "\n",
    "\n",
    "device = torch.device(DEVICE)\n",
    "model = model = SeparationModel(input_dim=get_user_vector_size(), num_classes=MAX_DOS).to(device)\n",
    "dataloader = DataLoader(MSDS, batch_size=BATCH_SIZE, shuffle=True)\n",
    "criterion = nn.CrossEntropyLoss()\n",
    "optimizer = torch.optim.Adam(model.parameters(), lr=LEARNING_RATE)\n",
    "\n",
    "losses = []  # Store loss values for plotting\n",
    "\n",
    "for epoch in range(NUM_EPOCHS):\n",
    "    total_loss = 0\n",
    "    for data, target in dataloader:\n",
    "        data = data.float().to(device)\n",
    "        target = target.long().to(device)\n",
    "        optimizer.zero_grad()\n",
    "        output = model(data)\n",
    "        loss = criterion(output, target)\n",
    "        loss.backward()\n",
    "        optimizer.step()\n",
    "        total_loss += loss.item()\n",
    "    average_loss = total_loss / len(dataloader)\n",
    "    losses.append(average_loss)\n",
    "    \n",
    "    \n",
    "    # Update the plot\n",
    "    lines.set_xdata(list(range(epoch + 1)))\n",
    "    lines.set_ydata(losses)\n",
    "    ax.set_xlim(0, epoch + 1)\n",
    "    ax.set_ylim(min(losses) - 0.1, max(losses) + 0.1)\n",
    "    display(fig)\n",
    "    clear_output(wait=True)\n",
    "\n",
    "plt.ioff()\n",
    "plt.show()"
   ]
  },
  {
   "cell_type": "markdown",
   "metadata": {},
   "source": [
    "### Save the Model"
   ]
  },
  {
   "cell_type": "code",
   "execution_count": null,
   "metadata": {},
   "outputs": [],
   "source": [
    "torch.save(model,\"MuSo.pth\")"
   ]
  }
 ],
 "metadata": {
  "kernelspec": {
   "display_name": "venv",
   "language": "python",
   "name": "python3"
  },
  "language_info": {
   "codemirror_mode": {
    "name": "ipython",
    "version": 3
   },
   "file_extension": ".py",
   "mimetype": "text/x-python",
   "name": "python",
   "nbconvert_exporter": "python",
   "pygments_lexer": "ipython3",
   "version": "3.12.1"
  }
 },
 "nbformat": 4,
 "nbformat_minor": 2
}
